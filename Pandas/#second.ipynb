{
 "cells": [
  {
   "cell_type": "code",
<<<<<<< HEAD
   "execution_count": 2,
   "metadata": {},
   "outputs": [],
   "source": [
    "import numpy as np\n",
    "import pandas as pd \n"
   ]
  },
  {
   "cell_type": "code",
   "execution_count": 6,
   "metadata": {},
   "outputs": [
    {
     "name": "stdout",
     "output_type": "stream",
     "text": [
      "[1 2 3 4 5 6 7 8 9]\n",
      "0    1\n",
      "1    2\n",
      "2    3\n",
      "3    4\n",
      "4    5\n",
      "5    6\n",
      "6    7\n",
      "7    8\n",
      "8    9\n",
      "dtype: int32\n",
      "<class 'pandas.core.series.Series'>\n"
     ]
    }
   ],
   "source": [
    "aaa = np.arange(1,10)\n",
    "print(aaa)\n",
    "ser = pd.Series(aaa)\n",
    "print(ser)\n",
    "print(type(ser))"
   ]
  },
  {
   "cell_type": "code",
   "execution_count": 7,
   "metadata": {},
   "outputs": [],
   "source": [
    "newdf = pd.DataFrame(np.random.rand(334,5), index=np.arange(334))"
   ]
  },
  {
   "cell_type": "code",
   "execution_count": 9,
   "metadata": {},
   "outputs": [
    {
     "name": "stdout",
     "output_type": "stream",
     "text": [
      "          0         1         2         3         4\n",
      "0  0.023806  0.500392  0.891068  0.597999  0.097962\n",
      "1  0.385788  0.874000  0.727269  0.140461  0.049582\n",
      "2  0.981641  0.094991  0.433274  0.131969  0.752574\n",
      "3  0.731387  0.460306  0.811884  0.099101  0.920103\n",
      "4  0.570183  0.764573  0.328294  0.052263  0.068015\n"
     ]
    }
   ],
   "source": [
    "print(newdf.head())"
   ]
  },
  {
   "cell_type": "code",
   "execution_count": 10,
   "metadata": {},
   "outputs": [
    {
     "data": {
      "text/plain": [
       "0    float64\n",
       "1    float64\n",
       "2    float64\n",
       "3    float64\n",
       "4    float64\n",
       "dtype: object"
      ]
     },
     "execution_count": 10,
     "metadata": {},
     "output_type": "execute_result"
    }
   ],
   "source": [
    "newdf.dtypes"
   ]
  },
  {
   "cell_type": "code",
   "execution_count": 11,
   "metadata": {},
   "outputs": [
    {
     "name": "stderr",
     "output_type": "stream",
     "text": [
      "C:\\Users\\Krishanu\\AppData\\Local\\Temp\\ipykernel_17412\\2771891818.py:1: FutureWarning: ChainedAssignmentError: behaviour will change in pandas 3.0!\n",
      "You are setting values through chained assignment. Currently this works in certain cases, but when using Copy-on-Write (which will become the default behaviour in pandas 3.0) this will never work to update the original DataFrame or Series, because the intermediate object on which we are setting values will behave as a copy.\n",
      "A typical example is when you are setting values in a column of a DataFrame, like:\n",
      "\n",
      "df[\"col\"][row_indexer] = value\n",
      "\n",
      "Use `df.loc[row_indexer, \"col\"] = values` instead, to perform the assignment in a single step and ensure this keeps updating the original `df`.\n",
      "\n",
      "See the caveats in the documentation: https://pandas.pydata.org/pandas-docs/stable/user_guide/indexing.html#returning-a-view-versus-a-copy\n",
      "\n",
      "  newdf[0][0] = \"harry\"\n",
      "C:\\Users\\Krishanu\\AppData\\Local\\Temp\\ipykernel_17412\\2771891818.py:1: FutureWarning: Setting an item of incompatible dtype is deprecated and will raise an error in a future version of pandas. Value 'harry' has dtype incompatible with float64, please explicitly cast to a compatible dtype first.\n",
      "  newdf[0][0] = \"harry\"\n"
     ]
    }
   ],
   "source": [
    "newdf[0][0] = \"harry\""
   ]
  },
  {
   "cell_type": "code",
   "execution_count": 12,
   "metadata": {},
   "outputs": [
    {
     "data": {
      "text/plain": [
       "0     object\n",
       "1    float64\n",
       "2    float64\n",
       "3    float64\n",
       "4    float64\n",
       "dtype: object"
      ]
     },
     "execution_count": 12,
     "metadata": {},
     "output_type": "execute_result"
    }
   ],
   "source": [
    "newdf.dtypes"
   ]
  },
  {
   "cell_type": "code",
   "execution_count": 14,
   "metadata": {},
   "outputs": [
    {
     "data": {
      "text/plain": [
       "Index([  0,   1,   2,   3,   4,   5,   6,   7,   8,   9,\n",
       "       ...\n",
       "       324, 325, 326, 327, 328, 329, 330, 331, 332, 333],\n",
       "      dtype='int32', length=334)"
      ]
     },
     "execution_count": 14,
     "metadata": {},
     "output_type": "execute_result"
    }
   ],
   "source": [
    "newdf.index"
   ]
  },
  {
   "cell_type": "code",
   "execution_count": 15,
   "metadata": {},
   "outputs": [
    {
     "data": {
      "text/plain": [
       "RangeIndex(start=0, stop=5, step=1)"
      ]
     },
     "execution_count": 15,
     "metadata": {},
     "output_type": "execute_result"
    }
   ],
   "source": [
    "newdf.columns"
   ]
  },
  {
   "cell_type": "code",
   "execution_count": 18,
   "metadata": {},
   "outputs": [],
   "source": [
    "x = newdf.to_numpy()"
   ]
  },
  {
   "cell_type": "code",
   "execution_count": 19,
   "metadata": {},
   "outputs": [
    {
     "data": {
      "text/plain": [
       "array([['harry', 0.500392256441063, 0.8910677506527608,\n",
       "        0.5979994042847713, 0.09796175564235698],\n",
       "       [0.38578816077599365, 0.8740001974337449, 0.7272693291311305,\n",
       "        0.14046116266139164, 0.04958193599419891],\n",
       "       [0.9816408033472833, 0.09499063456611523, 0.4332742209625303,\n",
       "        0.13196909747038565, 0.7525739253258542],\n",
       "       ...,\n",
       "       [0.4055542686695698, 0.0008188109445567138, 0.5335947943777215,\n",
       "        0.07158767041592051, 0.02740639305211201],\n",
       "       [0.2986638030681248, 0.027223856385987455, 0.6405158720878413,\n",
       "        0.50567938585158, 0.900309143584399],\n",
       "       [0.8344456159613673, 0.6613279553140853, 0.4988872557431844,\n",
       "        0.7690434526082596, 0.0008272150740582518]], dtype=object)"
      ]
     },
     "execution_count": 19,
     "metadata": {},
     "output_type": "execute_result"
    }
   ],
   "source": [
    "x"
   ]
  },
  {
   "cell_type": "code",
   "execution_count": 21,
   "metadata": {},
   "outputs": [
    {
     "data": {
      "text/plain": [
       "array([['harry', 0.38578816077599365, 0.9816408033472833, ...,\n",
       "        0.4055542686695698, 0.2986638030681248, 0.8344456159613673],\n",
       "       [0.500392256441063, 0.8740001974337449, 0.09499063456611523, ...,\n",
       "        0.0008188109445567138, 0.027223856385987455, 0.6613279553140853],\n",
       "       [0.8910677506527608, 0.7272693291311305, 0.4332742209625303, ...,\n",
       "        0.5335947943777215, 0.6405158720878413, 0.4988872557431844],\n",
       "       [0.5979994042847713, 0.14046116266139164, 0.13196909747038565,\n",
       "        ..., 0.07158767041592051, 0.50567938585158, 0.7690434526082596],\n",
       "       [0.09796175564235698, 0.04958193599419891, 0.7525739253258542,\n",
       "        ..., 0.02740639305211201, 0.900309143584399,\n",
       "        0.0008272150740582518]], dtype=object)"
      ]
     },
     "execution_count": 21,
     "metadata": {},
     "output_type": "execute_result"
    }
   ],
   "source": [
    "a = x.T\n",
    "a"
   ]
  },
  {
   "cell_type": "code",
   "execution_count": 24,
   "metadata": {},
   "outputs": [
    {
     "name": "stdout",
     "output_type": "stream",
     "text": [
      "        0         1         2         3         4         5         6    \\\n",
      "0     harry  0.385788  0.981641  0.731387  0.570183   0.81035  0.066428   \n",
      "1  0.500392     0.874  0.094991  0.460306  0.764573  0.031225  0.900617   \n",
      "2  0.891068  0.727269  0.433274  0.811884  0.328294  0.732203  0.703799   \n",
      "3  0.597999  0.140461  0.131969  0.099101  0.052263  0.510146  0.954067   \n",
      "4  0.097962  0.049582  0.752574  0.920103  0.068015  0.544148  0.582813   \n",
      "\n",
      "        7         8         9    ...       324       325       326       327  \\\n",
      "0  0.418977  0.867633  0.984275  ...  0.766527  0.182721  0.016086  0.768376   \n",
      "1   0.52613  0.969441  0.637838  ...  0.928915  0.967918  0.930492  0.315939   \n",
      "2   0.71929  0.634587  0.924942  ...  0.638896  0.875328   0.50102  0.327643   \n",
      "3  0.116141  0.215001  0.869079  ...  0.312946  0.366617  0.239407  0.064143   \n",
      "4  0.751733  0.822961  0.435819  ...  0.658847  0.837248   0.46867  0.722719   \n",
      "\n",
      "        328       329       330       331       332       333  \n",
      "0  0.873293  0.100438  0.181255  0.405554  0.298664  0.834446  \n",
      "1  0.604442  0.692611  0.209828  0.000819  0.027224  0.661328  \n",
      "2  0.063119  0.436815  0.192946  0.533595  0.640516  0.498887  \n",
      "3   0.60898  0.348155  0.051312  0.071588  0.505679  0.769043  \n",
      "4  0.497438  0.635865  0.025432  0.027406  0.900309  0.000827  \n",
      "\n",
      "[5 rows x 334 columns]\n"
     ]
    }
   ],
   "source": [
    "a = pd.DataFrame(a)\n",
    "print(a.head())"
   ]
  },
  {
   "cell_type": "code",
   "execution_count": 25,
   "metadata": {},
   "outputs": [
    {
     "data": {
      "text/html": [
       "<div>\n",
       "<style scoped>\n",
       "    .dataframe tbody tr th:only-of-type {\n",
       "        vertical-align: middle;\n",
       "    }\n",
       "\n",
       "    .dataframe tbody tr th {\n",
       "        vertical-align: top;\n",
       "    }\n",
       "\n",
       "    .dataframe thead th {\n",
       "        text-align: right;\n",
       "    }\n",
       "</style>\n",
       "<table border=\"1\" class=\"dataframe\">\n",
       "  <thead>\n",
       "    <tr style=\"text-align: right;\">\n",
       "      <th></th>\n",
       "      <th>0</th>\n",
       "      <th>1</th>\n",
       "      <th>2</th>\n",
       "      <th>3</th>\n",
       "      <th>4</th>\n",
       "    </tr>\n",
       "  </thead>\n",
       "  <tbody>\n",
       "    <tr>\n",
       "      <th>0</th>\n",
       "      <td>harry</td>\n",
       "      <td>0.500392</td>\n",
       "      <td>0.891068</td>\n",
       "      <td>0.597999</td>\n",
       "      <td>0.097962</td>\n",
       "    </tr>\n",
       "    <tr>\n",
       "      <th>1</th>\n",
       "      <td>0.385788</td>\n",
       "      <td>0.874000</td>\n",
       "      <td>0.727269</td>\n",
       "      <td>0.140461</td>\n",
       "      <td>0.049582</td>\n",
       "    </tr>\n",
       "    <tr>\n",
       "      <th>2</th>\n",
       "      <td>0.981641</td>\n",
       "      <td>0.094991</td>\n",
       "      <td>0.433274</td>\n",
       "      <td>0.131969</td>\n",
       "      <td>0.752574</td>\n",
       "    </tr>\n",
       "    <tr>\n",
       "      <th>3</th>\n",
       "      <td>0.731387</td>\n",
       "      <td>0.460306</td>\n",
       "      <td>0.811884</td>\n",
       "      <td>0.099101</td>\n",
       "      <td>0.920103</td>\n",
       "    </tr>\n",
       "    <tr>\n",
       "      <th>4</th>\n",
       "      <td>0.570183</td>\n",
       "      <td>0.764573</td>\n",
       "      <td>0.328294</td>\n",
       "      <td>0.052263</td>\n",
       "      <td>0.068015</td>\n",
       "    </tr>\n",
       "    <tr>\n",
       "      <th>...</th>\n",
       "      <td>...</td>\n",
       "      <td>...</td>\n",
       "      <td>...</td>\n",
       "      <td>...</td>\n",
       "      <td>...</td>\n",
       "    </tr>\n",
       "    <tr>\n",
       "      <th>329</th>\n",
       "      <td>0.100438</td>\n",
       "      <td>0.692611</td>\n",
       "      <td>0.436815</td>\n",
       "      <td>0.348155</td>\n",
       "      <td>0.635865</td>\n",
       "    </tr>\n",
       "    <tr>\n",
       "      <th>330</th>\n",
       "      <td>0.181255</td>\n",
       "      <td>0.209828</td>\n",
       "      <td>0.192946</td>\n",
       "      <td>0.051312</td>\n",
       "      <td>0.025432</td>\n",
       "    </tr>\n",
       "    <tr>\n",
       "      <th>331</th>\n",
       "      <td>0.405554</td>\n",
       "      <td>0.000819</td>\n",
       "      <td>0.533595</td>\n",
       "      <td>0.071588</td>\n",
       "      <td>0.027406</td>\n",
       "    </tr>\n",
       "    <tr>\n",
       "      <th>332</th>\n",
       "      <td>0.298664</td>\n",
       "      <td>0.027224</td>\n",
       "      <td>0.640516</td>\n",
       "      <td>0.505679</td>\n",
       "      <td>0.900309</td>\n",
       "    </tr>\n",
       "    <tr>\n",
       "      <th>333</th>\n",
       "      <td>0.834446</td>\n",
       "      <td>0.661328</td>\n",
       "      <td>0.498887</td>\n",
       "      <td>0.769043</td>\n",
       "      <td>0.000827</td>\n",
       "    </tr>\n",
       "  </tbody>\n",
       "</table>\n",
       "<p>334 rows × 5 columns</p>\n",
       "</div>"
      ],
      "text/plain": [
       "            0         1         2         3         4\n",
       "0       harry  0.500392  0.891068  0.597999  0.097962\n",
       "1    0.385788  0.874000  0.727269  0.140461  0.049582\n",
       "2    0.981641  0.094991  0.433274  0.131969  0.752574\n",
       "3    0.731387  0.460306  0.811884  0.099101  0.920103\n",
       "4    0.570183  0.764573  0.328294  0.052263  0.068015\n",
       "..        ...       ...       ...       ...       ...\n",
       "329  0.100438  0.692611  0.436815  0.348155  0.635865\n",
       "330  0.181255  0.209828  0.192946  0.051312  0.025432\n",
       "331  0.405554  0.000819  0.533595  0.071588  0.027406\n",
       "332  0.298664  0.027224  0.640516  0.505679  0.900309\n",
       "333  0.834446  0.661328  0.498887  0.769043  0.000827\n",
       "\n",
       "[334 rows x 5 columns]"
      ]
     },
     "execution_count": 25,
     "metadata": {},
     "output_type": "execute_result"
    }
   ],
   "source": [
    "newdf"
   ]
  },
  {
   "cell_type": "code",
   "execution_count": 26,
   "metadata": {},
   "outputs": [
    {
     "data": {
      "text/html": [
       "<div>\n",
       "<style scoped>\n",
       "    .dataframe tbody tr th:only-of-type {\n",
       "        vertical-align: middle;\n",
       "    }\n",
       "\n",
       "    .dataframe tbody tr th {\n",
       "        vertical-align: top;\n",
       "    }\n",
       "\n",
       "    .dataframe thead th {\n",
       "        text-align: right;\n",
       "    }\n",
       "</style>\n",
       "<table border=\"1\" class=\"dataframe\">\n",
       "  <thead>\n",
       "    <tr style=\"text-align: right;\">\n",
       "      <th></th>\n",
       "      <th>0</th>\n",
       "      <th>1</th>\n",
       "      <th>2</th>\n",
       "      <th>3</th>\n",
       "      <th>4</th>\n",
       "    </tr>\n",
       "  </thead>\n",
       "  <tbody>\n",
       "    <tr>\n",
       "      <th>333</th>\n",
       "      <td>0.834446</td>\n",
       "      <td>0.661328</td>\n",
       "      <td>0.498887</td>\n",
       "      <td>0.769043</td>\n",
       "      <td>0.000827</td>\n",
       "    </tr>\n",
       "    <tr>\n",
       "      <th>332</th>\n",
       "      <td>0.298664</td>\n",
       "      <td>0.027224</td>\n",
       "      <td>0.640516</td>\n",
       "      <td>0.505679</td>\n",
       "      <td>0.900309</td>\n",
       "    </tr>\n",
       "    <tr>\n",
       "      <th>331</th>\n",
       "      <td>0.405554</td>\n",
       "      <td>0.000819</td>\n",
       "      <td>0.533595</td>\n",
       "      <td>0.071588</td>\n",
       "      <td>0.027406</td>\n",
       "    </tr>\n",
       "    <tr>\n",
       "      <th>330</th>\n",
       "      <td>0.181255</td>\n",
       "      <td>0.209828</td>\n",
       "      <td>0.192946</td>\n",
       "      <td>0.051312</td>\n",
       "      <td>0.025432</td>\n",
       "    </tr>\n",
       "    <tr>\n",
       "      <th>329</th>\n",
       "      <td>0.100438</td>\n",
       "      <td>0.692611</td>\n",
       "      <td>0.436815</td>\n",
       "      <td>0.348155</td>\n",
       "      <td>0.635865</td>\n",
       "    </tr>\n",
       "    <tr>\n",
       "      <th>...</th>\n",
       "      <td>...</td>\n",
       "      <td>...</td>\n",
       "      <td>...</td>\n",
       "      <td>...</td>\n",
       "      <td>...</td>\n",
       "    </tr>\n",
       "    <tr>\n",
       "      <th>4</th>\n",
       "      <td>0.570183</td>\n",
       "      <td>0.764573</td>\n",
       "      <td>0.328294</td>\n",
       "      <td>0.052263</td>\n",
       "      <td>0.068015</td>\n",
       "    </tr>\n",
       "    <tr>\n",
       "      <th>3</th>\n",
       "      <td>0.731387</td>\n",
       "      <td>0.460306</td>\n",
       "      <td>0.811884</td>\n",
       "      <td>0.099101</td>\n",
       "      <td>0.920103</td>\n",
       "    </tr>\n",
       "    <tr>\n",
       "      <th>2</th>\n",
       "      <td>0.981641</td>\n",
       "      <td>0.094991</td>\n",
       "      <td>0.433274</td>\n",
       "      <td>0.131969</td>\n",
       "      <td>0.752574</td>\n",
       "    </tr>\n",
       "    <tr>\n",
       "      <th>1</th>\n",
       "      <td>0.385788</td>\n",
       "      <td>0.874000</td>\n",
       "      <td>0.727269</td>\n",
       "      <td>0.140461</td>\n",
       "      <td>0.049582</td>\n",
       "    </tr>\n",
       "    <tr>\n",
       "      <th>0</th>\n",
       "      <td>harry</td>\n",
       "      <td>0.500392</td>\n",
       "      <td>0.891068</td>\n",
       "      <td>0.597999</td>\n",
       "      <td>0.097962</td>\n",
       "    </tr>\n",
       "  </tbody>\n",
       "</table>\n",
       "<p>334 rows × 5 columns</p>\n",
       "</div>"
      ],
      "text/plain": [
       "            0         1         2         3         4\n",
       "333  0.834446  0.661328  0.498887  0.769043  0.000827\n",
       "332  0.298664  0.027224  0.640516  0.505679  0.900309\n",
       "331  0.405554  0.000819  0.533595  0.071588  0.027406\n",
       "330  0.181255  0.209828  0.192946  0.051312  0.025432\n",
       "329  0.100438  0.692611  0.436815  0.348155  0.635865\n",
       "..        ...       ...       ...       ...       ...\n",
       "4    0.570183  0.764573  0.328294  0.052263  0.068015\n",
       "3    0.731387  0.460306  0.811884  0.099101  0.920103\n",
       "2    0.981641  0.094991  0.433274  0.131969  0.752574\n",
       "1    0.385788  0.874000  0.727269  0.140461  0.049582\n",
       "0       harry  0.500392  0.891068  0.597999  0.097962\n",
       "\n",
       "[334 rows x 5 columns]"
      ]
     },
     "execution_count": 26,
     "metadata": {},
     "output_type": "execute_result"
    }
   ],
   "source": [
    "newdf.sort_index(axis=0, ascending=False)"
   ]
  },
  {
   "cell_type": "code",
   "execution_count": 27,
   "metadata": {},
   "outputs": [],
   "source": [
    "newdf2 = newdf.copy() # True copy\n",
    "newdf3 = newdf # Shallow Copy"
   ]
  },
  {
   "cell_type": "code",
=======
>>>>>>> 74a712f596502cdf1831833a751214d924afd5df
   "execution_count": null,
   "metadata": {},
   "outputs": [],
   "source": []
  }
 ],
 "metadata": {
<<<<<<< HEAD
  "kernelspec": {
   "display_name": "Python 3",
   "language": "python",
   "name": "python3"
  },
  "language_info": {
   "codemirror_mode": {
    "name": "ipython",
    "version": 3
   },
   "file_extension": ".py",
   "mimetype": "text/x-python",
   "name": "python",
   "nbconvert_exporter": "python",
   "pygments_lexer": "ipython3",
   "version": "3.11.4"
=======
  "language_info": {
   "name": "python"
>>>>>>> 74a712f596502cdf1831833a751214d924afd5df
  }
 },
 "nbformat": 4,
 "nbformat_minor": 2
}
