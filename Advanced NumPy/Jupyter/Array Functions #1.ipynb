{
 "cells": [
  {
   "cell_type": "code",
   "execution_count": null,
   "id": "bf063f7a",
   "metadata": {},
   "outputs": [],
   "source": [
    "import numpy as np\n",
    "a = np.arange(10)\n",
    "print(a)"
   ]
  },
  {
   "cell_type": "code",
   "execution_count": null,
   "id": "e9931e0a",
   "metadata": {},
   "outputs": [],
   "source": [
    "print(np.max(a))"
   ]
  },
  {
   "cell_type": "code",
   "execution_count": null,
   "id": "0e350fca",
   "metadata": {},
   "outputs": [],
   "source": [
    "print(np.min(a))"
   ]
  },
  {
   "cell_type": "code",
   "execution_count": null,
   "id": "e31a0b36",
   "metadata": {},
   "outputs": [],
   "source": [
    "print(np.argmin(a)) ##returns index"
   ]
  },
  {
   "cell_type": "code",
   "execution_count": null,
   "id": "ca422e90",
   "metadata": {},
   "outputs": [],
   "source": [
    "print(np.argmax(a)) ##returns index"
   ]
  },
  {
   "cell_type": "code",
   "execution_count": null,
   "id": "c071eb15",
   "metadata": {},
   "outputs": [],
   "source": [
    "print(np.sqrt(a))"
   ]
  },
  {
   "cell_type": "code",
   "execution_count": null,
   "id": "04a1fb9b",
   "metadata": {},
   "outputs": [],
   "source": [
    "print(np.sin(a))"
   ]
  },
  {
   "cell_type": "code",
   "execution_count": null,
   "id": "b8f85f48",
   "metadata": {
    "scrolled": true
   },
   "outputs": [],
   "source": [
    "print(np.cos(a))"
   ]
  },
  {
   "cell_type": "code",
   "execution_count": null,
   "id": "60b7d53e",
   "metadata": {},
   "outputs": [],
   "source": [
    "print(np.tan(a))"
   ]
  },
  {
   "cell_type": "code",
   "execution_count": null,
   "id": "31b10639",
   "metadata": {},
   "outputs": [],
   "source": [
    "print(np.linspace(1,5,10))"
   ]
  },
  {
   "cell_type": "code",
   "execution_count": null,
   "id": "6152e14b",
   "metadata": {},
   "outputs": [],
   "source": []
  }
 ],
 "metadata": {
  "kernelspec": {
   "display_name": "Python 3 (ipykernel)",
   "language": "python",
   "name": "python3"
  },
  "language_info": {
   "codemirror_mode": {
    "name": "ipython",
    "version": 3
   },
   "file_extension": ".py",
   "mimetype": "text/x-python",
   "name": "python",
   "nbconvert_exporter": "python",
   "pygments_lexer": "ipython3",
   "version": "3.11.3"
  }
 },
 "nbformat": 4,
 "nbformat_minor": 5
}
