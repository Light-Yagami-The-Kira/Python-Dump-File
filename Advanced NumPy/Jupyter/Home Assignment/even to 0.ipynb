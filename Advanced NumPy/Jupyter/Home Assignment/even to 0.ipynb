{
 "cells": [
  {
   "cell_type": "code",
   "execution_count": 39,
   "id": "ad35882e",
   "metadata": {},
   "outputs": [
    {
     "data": {
      "text/plain": [
       "array([11, 16, 55, 14, 50, 48, 16,  4, 77, 38, 27, 42, 60, 48, 39, 71, 29,\n",
       "       38, 59, 26, 52, 60, 47, 72, 86,  2, 75,  1, 73, 73, 56,  7, 54, 25,\n",
       "        7, 29, 48, 26, 56, 42, 60, 38, 33, 39, 55, 58, 88, 83, 16,  8, 65,\n",
       "       75, 88, 94, 78, 50, 27, 51, 67,  9, 69, 69, 71, 36, 16, 10, 22, 30,\n",
       "       23, 55, 20, 53, 41, 54,  2, 68, 60, 22, 88,  5, 81,  8, 96,  6, 86,\n",
       "       30, 18, 78,  7, 26, 43, 30, 17, 46, 90, 87, 10, 82, 83,  7])"
      ]
     },
     "execution_count": 39,
     "metadata": {},
     "output_type": "execute_result"
    }
   ],
   "source": [
    "import numpy as np\n",
    "a = np.random.randint(0,100,100)\n",
    "a"
   ]
  },
  {
   "cell_type": "code",
   "execution_count": 42,
   "id": "1bc47be4",
   "metadata": {},
   "outputs": [
    {
     "data": {
      "text/plain": [
       "array([11,  0, 55,  0,  0,  0,  0,  0, 77,  0, 27,  0,  0,  0, 39, 71, 29,\n",
       "        0, 59,  0,  0,  0, 47,  0,  0,  0, 75,  1, 73, 73,  0,  7,  0, 25,\n",
       "        7, 29,  0,  0,  0,  0,  0,  0, 33, 39, 55,  0,  0, 83,  0,  0, 65,\n",
       "       75,  0,  0,  0,  0, 27, 51, 67,  9, 69, 69, 71,  0,  0,  0,  0,  0,\n",
       "       23, 55,  0, 53, 41,  0,  0,  0,  0,  0,  0,  5, 81,  0,  0,  0,  0,\n",
       "        0,  0,  0,  7,  0, 43,  0, 17,  0,  0, 87,  0,  0, 83,  7])"
      ]
     },
     "execution_count": 42,
     "metadata": {},
     "output_type": "execute_result"
    }
   ],
   "source": [
    "a[a%2==0] = 0\n",
    "a"
   ]
  }
 ],
 "metadata": {
  "kernelspec": {
   "display_name": "Python 3 (ipykernel)",
   "language": "python",
   "name": "python3"
  },
  "language_info": {
   "codemirror_mode": {
    "name": "ipython",
    "version": 3
   },
   "file_extension": ".py",
   "mimetype": "text/x-python",
   "name": "python",
   "nbconvert_exporter": "python",
   "pygments_lexer": "ipython3",
   "version": "3.11.3"
  }
 },
 "nbformat": 4,
 "nbformat_minor": 5
}
