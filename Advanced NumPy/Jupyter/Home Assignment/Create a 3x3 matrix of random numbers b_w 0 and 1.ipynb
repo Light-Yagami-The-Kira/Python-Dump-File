{
 "cells": [
  {
   "cell_type": "code",
   "execution_count": 2,
   "id": "95b1cebd",
   "metadata": {},
   "outputs": [
    {
     "data": {
      "text/plain": [
       "array([[0.19256768, 0.48969463, 0.65932306],\n",
       "       [0.28189677, 0.09367798, 0.07228791],\n",
       "       [0.70396844, 0.22183706, 0.17356045]])"
      ]
     },
     "execution_count": 2,
     "metadata": {},
     "output_type": "execute_result"
    }
   ],
   "source": [
    "import numpy as np\n",
    "a = np.random.random(9).reshape(3,3)\n",
    "a"
   ]
  }
 ],
 "metadata": {
  "kernelspec": {
   "display_name": "Python 3 (ipykernel)",
   "language": "python",
   "name": "python3"
  },
  "language_info": {
   "codemirror_mode": {
    "name": "ipython",
    "version": 3
   },
   "file_extension": ".py",
   "mimetype": "text/x-python",
   "name": "python",
   "nbconvert_exporter": "python",
   "pygments_lexer": "ipython3",
   "version": "3.11.3"
  }
 },
 "nbformat": 4,
 "nbformat_minor": 5
}
