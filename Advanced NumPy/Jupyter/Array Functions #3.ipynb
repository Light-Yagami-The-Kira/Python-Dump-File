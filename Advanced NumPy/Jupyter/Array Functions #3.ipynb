{
 "cells": [
  {
   "cell_type": "code",
   "execution_count": null,
   "id": "dba50fdc",
   "metadata": {},
   "outputs": [],
   "source": [
    "import numpy as np\n",
    "np.random.seed(122)\n",
    "a = np.random.randint(1,21,10)\n",
    "print(a)"
   ]
  },
  {
   "cell_type": "code",
   "execution_count": null,
   "id": "5ba1e353",
   "metadata": {},
   "outputs": [],
   "source": [
    "np.random.shuffle(a)\n",
    "print(a)"
   ]
  },
  {
   "cell_type": "code",
   "execution_count": null,
   "id": "71fba8b0",
   "metadata": {},
   "outputs": [],
   "source": [
    "np.random.shuffle(a)\n",
    "print(a)"
   ]
  },
  {
   "cell_type": "code",
   "execution_count": null,
   "id": "3b56a14e",
   "metadata": {},
   "outputs": [],
   "source": [
    "b = np.array([4,4,5,5,6,7,0,1,69,50])\n",
    "print(np.unique(b, return_index=True, return_counts=True))\n",
    "print(np.unique(b).size) ## number of unique elements"
   ]
  },
  {
   "cell_type": "code",
   "execution_count": null,
   "id": "e3783b73",
   "metadata": {},
   "outputs": [],
   "source": []
  }
 ],
 "metadata": {
  "kernelspec": {
   "display_name": "Python 3 (ipykernel)",
   "language": "python",
   "name": "python3"
  },
  "language_info": {
   "codemirror_mode": {
    "name": "ipython",
    "version": 3
   },
   "file_extension": ".py",
   "mimetype": "text/x-python",
   "name": "python",
   "nbconvert_exporter": "python",
   "pygments_lexer": "ipython3",
   "version": "3.11.3"
  }
 },
 "nbformat": 4,
 "nbformat_minor": 5
}
