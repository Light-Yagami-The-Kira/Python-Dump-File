{
 "cells": [
  {
   "cell_type": "code",
   "execution_count": null,
   "id": "cb565819",
   "metadata": {},
   "outputs": [],
   "source": [
    "\"\"\"\n",
    "Slicing of arrays can be done in two ways:\n",
    "A) View :- In this when we slice an array, if we make changes to sub array,\n",
    "changes are also seen in the main array.\n",
    "B) Copy :- Changes in sub array are not reflected in main array \n",
    "\"\"\""
   ]
  },
  {
   "cell_type": "code",
   "execution_count": null,
   "id": "c83e79e7",
   "metadata": {},
   "outputs": [],
   "source": [
    "import numpy as np\n",
    "arr1 = np.random.randint(1,100,10)\n",
    "arr2 = np.random.randint(1,100,10)\n",
    "arr3 = np.random.randint(1,100,10)\n",
    "arr4 = np.random.randint(1,100,10)\n",
    "arr5 = np.random.randint(1,100,10)\n",
    "arr = np.array([arr1,arr2,arr3,arr4,arr5])"
   ]
  },
  {
   "cell_type": "code",
   "execution_count": null,
   "id": "0f570f0e",
   "metadata": {
    "scrolled": true
   },
   "outputs": [],
   "source": [
    "print(arr)"
   ]
  },
  {
   "cell_type": "code",
   "execution_count": null,
   "id": "8f8f5c87",
   "metadata": {
    "scrolled": true
   },
   "outputs": [],
   "source": [
    "copy = arr[2:5,2:8].copy()\n",
    "print(copy)\n",
    "copy[:]=0\n",
    "print(copy)\n",
    "print(arr)"
   ]
  }
 ],
 "metadata": {
  "kernelspec": {
   "display_name": "Python 3 (ipykernel)",
   "language": "python",
   "name": "python3"
  },
  "language_info": {
   "codemirror_mode": {
    "name": "ipython",
    "version": 3
   },
   "file_extension": ".py",
   "mimetype": "text/x-python",
   "name": "python",
   "nbconvert_exporter": "python",
   "pygments_lexer": "ipython3",
   "version": "3.11.3"
  }
 },
 "nbformat": 4,
 "nbformat_minor": 5
}
