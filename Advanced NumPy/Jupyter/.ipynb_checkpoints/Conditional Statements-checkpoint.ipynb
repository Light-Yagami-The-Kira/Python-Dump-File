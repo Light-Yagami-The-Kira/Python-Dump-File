{
 "cells": [
  {
   "cell_type": "code",
   "execution_count": null,
   "id": "fb4278ef",
   "metadata": {},
   "outputs": [],
   "source": [
    "import numpy as np\n",
    "matrix = []\n",
    "for i in range(0,5):\n",
    "    matrix.append(np.random.randint(0,10,10))\n",
    "matrix = np.array(matrix)"
   ]
  },
  {
   "cell_type": "code",
   "execution_count": null,
   "id": "65ff2051",
   "metadata": {},
   "outputs": [],
   "source": [
    "print(matrix)"
   ]
  },
  {
   "cell_type": "code",
   "execution_count": null,
   "id": "fd958751",
   "metadata": {
    "scrolled": true
   },
   "outputs": [],
   "source": [
    "matrix = matrix > 5\n",
    "print(matrix)"
   ]
  },
  {
   "cell_type": "code",
   "execution_count": null,
   "id": "bcc82747",
   "metadata": {},
   "outputs": [],
   "source": [
    "x = matrix.shape\n",
    "row = x[0]-1\n",
    "col = x[1]-1"
   ]
  },
  {
   "cell_type": "code",
   "execution_count": null,
   "id": "b92cf54d",
   "metadata": {},
   "outputs": [],
   "source": [
    "true_count=0\n",
    "false_count=0"
   ]
  },
  {
   "cell_type": "code",
   "execution_count": null,
   "id": "cacb93bf",
   "metadata": {},
   "outputs": [],
   "source": [
    "for i in range(row):\n",
    "    for j in range(col):\n",
    "        if matrix[i,j] == True:\n",
    "            true_count+=1\n",
    "        else:\n",
    "            false_count+=1"
   ]
  },
  {
   "cell_type": "code",
   "execution_count": null,
   "id": "9454c7c0",
   "metadata": {},
   "outputs": [],
   "source": [
    "print(f\"True:{true_count} False:{false_count}\")"
   ]
  }
 ],
 "metadata": {
  "kernelspec": {
   "display_name": "Python 3 (ipykernel)",
   "language": "python",
   "name": "python3"
  },
  "language_info": {
   "codemirror_mode": {
    "name": "ipython",
    "version": 3
   },
   "file_extension": ".py",
   "mimetype": "text/x-python",
   "name": "python",
   "nbconvert_exporter": "python",
   "pygments_lexer": "ipython3",
   "version": "3.11.3"
  }
 },
 "nbformat": 4,
 "nbformat_minor": 5
}
