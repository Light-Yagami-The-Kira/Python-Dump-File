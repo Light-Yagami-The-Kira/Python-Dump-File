{
 "cells": [
  {
   "cell_type": "code",
   "execution_count": null,
   "id": "1efeed79",
   "metadata": {},
   "outputs": [],
   "source": [
    "import numpy as np\n",
    "array = np.array([[0,68,10],[41,569,25],[54,36,54]])"
   ]
  },
  {
   "cell_type": "code",
   "execution_count": null,
   "id": "ae3f5816",
   "metadata": {},
   "outputs": [],
   "source": [
    "print(array)"
   ]
  },
  {
   "cell_type": "code",
   "execution_count": null,
   "id": "81960bc5",
   "metadata": {},
   "outputs": [],
   "source": [
    "print(array.shape)"
   ]
  },
  {
   "cell_type": "code",
   "execution_count": null,
   "id": "1d006665",
   "metadata": {},
   "outputs": [],
   "source": [
    "print(array[1:3])"
   ]
  },
  {
   "cell_type": "code",
   "execution_count": null,
   "id": "5f63284a",
   "metadata": {},
   "outputs": [],
   "source": [
    "print(array[1:3,1:3])"
   ]
  }
 ],
 "metadata": {
  "kernelspec": {
   "display_name": "Python 3 (ipykernel)",
   "language": "python",
   "name": "python3"
  },
  "language_info": {
   "codemirror_mode": {
    "name": "ipython",
    "version": 3
   },
   "file_extension": ".py",
   "mimetype": "text/x-python",
   "name": "python",
   "nbconvert_exporter": "python",
   "pygments_lexer": "ipython3",
   "version": "3.11.3"
  }
 },
 "nbformat": 4,
 "nbformat_minor": 5
}
