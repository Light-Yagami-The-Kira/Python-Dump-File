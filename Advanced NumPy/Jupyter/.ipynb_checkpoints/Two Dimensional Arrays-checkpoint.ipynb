{
 "cells": [
  {
   "cell_type": "code",
   "execution_count": null,
   "id": "6f9c84b9",
   "metadata": {},
   "outputs": [],
   "source": [
    "import numpy as np\n",
    "matrix = []\n",
    "row = int(input(\"Enter number of rows: \"))\n",
    "col = int(input(\"Enter number of columns: \"))"
   ]
  },
  {
   "cell_type": "code",
   "execution_count": null,
   "id": "457aa35c",
   "metadata": {},
   "outputs": [],
   "source": [
    "for i in range(row):\n",
    "    a = []\n",
    "    print(f\"For {i}th row\")\n",
    "    for j in range(col):\n",
    "        val = int(input(f\"Enter value for {j}th index: \"))\n",
    "        a.append(val)\n",
    "    matrix.append(a)"
   ]
  },
  {
   "cell_type": "code",
   "execution_count": null,
   "id": "0ae114e6",
   "metadata": {
    "scrolled": true
   },
   "outputs": [],
   "source": [
    "matrix = np.array(matrix)\n",
    "print(matrix)"
   ]
  },
  {
   "cell_type": "code",
   "execution_count": null,
   "id": "852ed356",
   "metadata": {},
   "outputs": [],
   "source": [
    "for i in range(row):\n",
    "    for j in range(col):\n",
    "        print(f\"{matrix[i,j]}\",end=\"\\t\")\n",
    "    print(\"\\n\")"
   ]
  },
  {
   "cell_type": "code",
   "execution_count": null,
   "id": "81eb704b",
   "metadata": {},
   "outputs": [],
   "source": []
  }
 ],
 "metadata": {
  "kernelspec": {
   "display_name": "Python 3 (ipykernel)",
   "language": "python",
   "name": "python3"
  },
  "language_info": {
   "codemirror_mode": {
    "name": "ipython",
    "version": 3
   },
   "file_extension": ".py",
   "mimetype": "text/x-python",
   "name": "python",
   "nbconvert_exporter": "python",
   "pygments_lexer": "ipython3",
   "version": "3.11.3"
  }
 },
 "nbformat": 4,
 "nbformat_minor": 5
}
