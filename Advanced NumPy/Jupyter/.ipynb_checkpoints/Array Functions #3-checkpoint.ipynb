{
 "cells": [
  {
   "cell_type": "code",
   "execution_count": 4,
   "id": "d403bf74",
   "metadata": {},
   "outputs": [
    {
     "name": "stdout",
     "output_type": "stream",
     "text": [
      "[16 11 13 17 13 16  3 16 11 10]\n"
     ]
    }
   ],
   "source": [
    "import numpy as np\n",
    "np.random.seed(122)\n",
    "a = np.random.randint(1,21,10)\n",
    "print(a)"
   ]
  },
  {
   "cell_type": "code",
   "execution_count": 6,
   "id": "44fab694",
   "metadata": {},
   "outputs": [
    {
     "name": "stdout",
     "output_type": "stream",
     "text": [
      "[ 3 17 16 11 10 13 16 13 11 16]\n"
     ]
    }
   ],
   "source": [
    "np.random.shuffle(a)\n",
    "print(a)"
   ]
  },
  {
   "cell_type": "code",
   "execution_count": 7,
   "id": "5c32f313",
   "metadata": {},
   "outputs": [
    {
     "name": "stdout",
     "output_type": "stream",
     "text": [
      "[17 16 13 10 11  3 13 11 16 16]\n"
     ]
    }
   ],
   "source": [
    "np.random.shuffle(a)\n",
    "print(a)"
   ]
  },
  {
   "cell_type": "code",
   "execution_count": 16,
   "id": "b6506cca",
   "metadata": {},
   "outputs": [
    {
     "name": "stdout",
     "output_type": "stream",
     "text": [
      "(array([ 0,  1,  4,  5,  6,  7, 50, 69]), array([6, 7, 0, 2, 4, 5, 9, 8], dtype=int64), array([1, 1, 2, 2, 1, 1, 1, 1], dtype=int64))\n",
      "8\n"
     ]
    }
   ],
   "source": [
    "b = np.array([4,4,5,5,6,7,0,1,69,50])\n",
    "print(np.unique(b, return_index=True, return_counts=True))\n",
    "print(np.unique(b).size) ## number of unique elements"
   ]
  },
  {
   "cell_type": "code",
   "execution_count": null,
   "id": "769b83cf",
   "metadata": {},
   "outputs": [],
   "source": []
  }
 ],
 "metadata": {
  "kernelspec": {
   "display_name": "Python 3 (ipykernel)",
   "language": "python",
   "name": "python3"
  },
  "language_info": {
   "codemirror_mode": {
    "name": "ipython",
    "version": 3
   },
   "file_extension": ".py",
   "mimetype": "text/x-python",
   "name": "python",
   "nbconvert_exporter": "python",
   "pygments_lexer": "ipython3",
   "version": "3.11.3"
  }
 },
 "nbformat": 4,
 "nbformat_minor": 5
}
