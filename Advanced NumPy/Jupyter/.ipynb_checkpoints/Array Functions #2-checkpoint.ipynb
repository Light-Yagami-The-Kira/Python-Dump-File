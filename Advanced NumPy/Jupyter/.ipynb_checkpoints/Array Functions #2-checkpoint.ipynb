{
 "cells": [
  {
   "cell_type": "code",
   "execution_count": null,
   "id": "88692033",
   "metadata": {},
   "outputs": [],
   "source": [
    "import numpy as np\n",
    "a = np.arange(20).reshape(4,-1)\n",
    "print(a)"
   ]
  },
  {
   "cell_type": "code",
   "execution_count": null,
   "id": "42b57840",
   "metadata": {},
   "outputs": [],
   "source": [
    "b = np.arange(20,40).reshape(4,-1)\n",
    "print(b)"
   ]
  },
  {
   "cell_type": "code",
   "execution_count": null,
   "id": "a7490a26",
   "metadata": {},
   "outputs": [],
   "source": [
    "print(np.sum(a, axis=0), np.sum(a, axis=1))"
   ]
  },
  {
   "cell_type": "code",
   "execution_count": null,
   "id": "a068ed6e",
   "metadata": {},
   "outputs": [],
   "source": [
    "print(np.cumsum(a,axis=0), np.cumsum(a,axis=1), sep=\"\\n======\\n\")"
   ]
  },
  {
   "cell_type": "code",
   "execution_count": null,
   "id": "26181b1d",
   "metadata": {},
   "outputs": [],
   "source": [
    "print(a.size)"
   ]
  }
 ],
 "metadata": {
  "kernelspec": {
   "display_name": "Python 3 (ipykernel)",
   "language": "python",
   "name": "python3"
  },
  "language_info": {
   "codemirror_mode": {
    "name": "ipython",
    "version": 3
   },
   "file_extension": ".py",
   "mimetype": "text/x-python",
   "name": "python",
   "nbconvert_exporter": "python",
   "pygments_lexer": "ipython3",
   "version": "3.11.3"
  }
 },
 "nbformat": 4,
 "nbformat_minor": 5
}
