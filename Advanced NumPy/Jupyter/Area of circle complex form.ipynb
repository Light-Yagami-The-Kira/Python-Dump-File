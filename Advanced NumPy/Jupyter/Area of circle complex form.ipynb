{
 "cells": [
  {
   "cell_type": "code",
   "execution_count": 15,
   "id": "93eac5b6",
   "metadata": {},
   "outputs": [],
   "source": [
    "import cmath\n",
    "print(\"Area of cirlce is: \", ((int(input(\"Enter radius\")))**2*(-2*cmath.log((cmath.sqrt(-1))**(cmath.sqrt(-1))))).real)"
   ]
  }
 ],
 "metadata": {
  "kernelspec": {
   "display_name": "Python 3 (ipykernel)",
   "language": "python",
   "name": "python3"
  },
  "language_info": {
   "codemirror_mode": {
    "name": "ipython",
    "version": 3
   },
   "file_extension": ".py",
   "mimetype": "text/x-python",
   "name": "python",
   "nbconvert_exporter": "python",
   "pygments_lexer": "ipython3",
   "version": "3.11.3"
  }
 },
 "nbformat": 4,
 "nbformat_minor": 5
}
