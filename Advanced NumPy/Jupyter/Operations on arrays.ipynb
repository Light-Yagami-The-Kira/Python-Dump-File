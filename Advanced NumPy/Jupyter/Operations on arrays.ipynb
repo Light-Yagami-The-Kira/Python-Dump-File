{
 "cells": [
  {
   "cell_type": "code",
   "execution_count": null,
   "id": "0da44bb5",
   "metadata": {},
   "outputs": [],
   "source": [
    "import numpy as np\n",
    "arr1 = np.arange(100).reshape(10,-1)\n",
    "arr2 = np.arange(100,200).reshape(10,-1)\n"
   ]
  },
  {
   "cell_type": "code",
   "execution_count": null,
   "id": "b421dd50",
   "metadata": {},
   "outputs": [],
   "source": [
    "print(arr1)"
   ]
  },
  {
   "cell_type": "code",
   "execution_count": null,
   "id": "f8955ffb",
   "metadata": {},
   "outputs": [],
   "source": [
    "print(arr2)"
   ]
  },
  {
   "cell_type": "code",
   "execution_count": null,
   "id": "e611508f",
   "metadata": {},
   "outputs": [],
   "source": [
    "print(arr1 + arr2)\n",
    "print(arr1-arr2)\n",
    "print(arr1//arr2)\n",
    "print(arr1/arr2)"
   ]
  },
  {
   "cell_type": "code",
   "execution_count": null,
   "id": "e7918874",
   "metadata": {},
   "outputs": [],
   "source": [
    "print(arr1.dot(arr2))"
   ]
  },
  {
   "cell_type": "code",
   "execution_count": null,
   "id": "cd1063db",
   "metadata": {
    "scrolled": true
   },
   "outputs": [],
   "source": [
    "print(arr2.dot(arr1))"
   ]
  },
  {
   "cell_type": "code",
   "execution_count": null,
   "id": "2106520d",
   "metadata": {},
   "outputs": [],
   "source": [
    "arr1 = arr1[0:3,0:3]\n",
    "arr2 = arr2[0:3,0:3]"
   ]
  },
  {
   "cell_type": "code",
   "execution_count": null,
   "id": "6ab34343",
   "metadata": {},
   "outputs": [],
   "source": [
    "print(arr1)\n",
    "print(arr2)"
   ]
  },
  {
   "cell_type": "code",
   "execution_count": null,
   "id": "c4e2f9f2",
   "metadata": {},
   "outputs": [],
   "source": [
    "print(np.cross(arr1,arr2))"
   ]
  }
 ],
 "metadata": {
  "kernelspec": {
   "display_name": "Python 3 (ipykernel)",
   "language": "python",
   "name": "python3"
  },
  "language_info": {
   "codemirror_mode": {
    "name": "ipython",
    "version": 3
   },
   "file_extension": ".py",
   "mimetype": "text/x-python",
   "name": "python",
   "nbconvert_exporter": "python",
   "pygments_lexer": "ipython3",
   "version": "3.11.3"
  }
 },
 "nbformat": 4,
 "nbformat_minor": 5
}
