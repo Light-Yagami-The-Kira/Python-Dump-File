{
 "cells": [
  {
   "cell_type": "code",
   "execution_count": 1,
   "id": "059e4374-4a2b-45a7-8f09-1538f0947367",
   "metadata": {},
   "outputs": [],
   "source": [
    "import numpy as np"
   ]
  },
  {
   "cell_type": "code",
   "execution_count": 2,
   "id": "9627053b-519c-4eb4-96b8-6d37e3f32bb5",
   "metadata": {},
   "outputs": [],
   "source": [
    "listarray = np.array([[1,2,3], [5,8,5],[0,3,1]])"
   ]
  },
  {
   "cell_type": "code",
   "execution_count": 3,
   "id": "c8511b3f-b063-43d6-b1fd-bdec57cb6216",
   "metadata": {},
   "outputs": [
    {
     "name": "stdout",
     "output_type": "stream",
     "text": [
      "[[1 2 3]\n",
      " [5 8 5]\n",
      " [0 3 1]]\n"
     ]
    }
   ],
   "source": [
    "print(listarray)"
   ]
  },
  {
   "cell_type": "code",
   "execution_count": 5,
   "id": "818811c1-484b-40ba-a9a5-9b09900e0ad9",
   "metadata": {},
   "outputs": [
    {
     "name": "stdout",
     "output_type": "stream",
     "text": [
      "int32\n"
     ]
    }
   ],
   "source": [
    "print(listarray.dtype)"
   ]
  },
  {
   "cell_type": "code",
   "execution_count": 6,
   "id": "f8af4e8d-e112-4117-a64a-fc3fe393056f",
   "metadata": {},
   "outputs": [
    {
     "name": "stdout",
     "output_type": "stream",
     "text": [
      "(3, 3)\n"
     ]
    }
   ],
   "source": [
    "print(listarray.shape)"
   ]
  },
  {
   "cell_type": "code",
   "execution_count": 7,
   "id": "04923bcd-50b1-482d-9334-2947eb690476",
   "metadata": {},
   "outputs": [
    {
     "name": "stdout",
     "output_type": "stream",
     "text": [
      "9\n"
     ]
    }
   ],
   "source": [
    "print(listarray.size)"
   ]
  },
  {
   "cell_type": "code",
   "execution_count": 8,
   "id": "277aab64-cc80-4f1a-ab7a-23f6187d423e",
   "metadata": {},
   "outputs": [
    {
     "name": "stdout",
     "output_type": "stream",
     "text": [
      "{1, 2, 3, 4}\n",
      "object\n",
      "()\n"
     ]
    }
   ],
   "source": [
    "a = np.array({1,2,3,4})\n",
    "print(a, a.dtype, a.shape, sep=\"\\n\")"
   ]
  },
  {
   "cell_type": "code",
   "execution_count": 13,
   "id": "dca92778-05f5-4b97-bf1e-e7de561953fb",
   "metadata": {},
   "outputs": [
    {
     "name": "stdout",
     "output_type": "stream",
     "text": [
      "[0. 0. 0. 0. 0.]\n"
     ]
    }
   ],
   "source": [
    "zeros = np.zeros((5))\n",
    "print(zeros)"
   ]
  },
  {
   "cell_type": "code",
   "execution_count": 14,
   "id": "a272d295-5d7e-411f-9641-41a2eeaefac1",
   "metadata": {},
   "outputs": [
    {
     "name": "stdout",
     "output_type": "stream",
     "text": [
      "[[0. 0. 0. 0. 0.]]\n"
     ]
    }
   ],
   "source": [
    "zeros = np.zeros((1,5))\n",
    "print(zeros)"
   ]
  },
  {
   "cell_type": "code",
   "execution_count": 15,
   "id": "d98c32be-25be-427e-b3bd-baf03316e1cb",
   "metadata": {},
   "outputs": [
    {
     "name": "stdout",
     "output_type": "stream",
     "text": [
      "[[0. 0. 0. 0. 0.]\n",
      " [0. 0. 0. 0. 0.]]\n"
     ]
    }
   ],
   "source": [
    "zeros = np.zeros((2,5))\n",
    "print(zeros)"
   ]
  },
  {
   "cell_type": "code",
   "execution_count": 16,
   "id": "f2ee2a51-c9c2-4672-9d2e-fcfcee82d5d7",
   "metadata": {},
   "outputs": [
    {
     "name": "stdout",
     "output_type": "stream",
     "text": [
      "[[0. 0. 0. 0. 0.]\n",
      " [0. 0. 0. 0. 0.]\n",
      " [0. 0. 0. 0. 0.]\n",
      " [0. 0. 0. 0. 0.]\n",
      " [0. 0. 0. 0. 0.]]\n"
     ]
    }
   ],
   "source": [
    "zeros = np.zeros((5,5))\n",
    "print(zeros)"
   ]
  },
  {
   "cell_type": "code",
   "execution_count": 40,
   "id": "cd8c4810-3b92-4306-a3ab-ad875413d733",
   "metadata": {},
   "outputs": [
    {
     "name": "stdout",
     "output_type": "stream",
     "text": [
      "[[69 69 69 69]\n",
      " [69 69 69 69]\n",
      " [69 69 69 69]]\n"
     ]
    }
   ],
   "source": [
    "qq = np.full((3,4), 69)\n",
    "print(qq)"
   ]
  },
  {
   "cell_type": "code",
   "execution_count": 18,
   "id": "7e3bf4e7-5a79-4b01-a829-11409fb33fce",
   "metadata": {},
   "outputs": [
    {
     "name": "stdout",
     "output_type": "stream",
     "text": [
      "[2 3 4 5 6 7 8 9]\n"
     ]
    }
   ],
   "source": [
    "q = np.arange(2,10)\n",
    "print(q)"
   ]
  },
  {
   "cell_type": "code",
   "execution_count": 20,
   "id": "410985ae-a583-4148-b528-47b14ba6e68e",
   "metadata": {},
   "outputs": [
    {
     "name": "stdout",
     "output_type": "stream",
     "text": [
      "[ 1.          3.11111111  5.22222222  7.33333333  9.44444444 11.55555556\n",
      " 13.66666667 15.77777778 17.88888889 20.        ]\n"
     ]
    }
   ],
   "source": [
    "## Generates 10 numbers between 1 and 20 with equal spacing.\n",
    "lspace = np.linspace(1,20,10)\n",
    "print(lspace)"
   ]
  },
  {
   "cell_type": "code",
   "execution_count": 22,
   "id": "5a065860-6217-46ef-9c36-78bf5a16ea1e",
   "metadata": {},
   "outputs": [
    {
     "name": "stdout",
     "output_type": "stream",
     "text": [
      "[[6.23042070e-307 4.67296746e-307 1.69121096e-306 1.11261434e-306\n",
      "  1.33511018e-306 1.42413555e-306]\n",
      " [1.78019082e-306 1.37959740e-306 6.23057349e-307 1.02360935e-306\n",
      "  1.69120416e-306 1.78022342e-306]\n",
      " [6.23058028e-307 1.06811422e-306 9.45699680e-308 1.11258854e-306\n",
      "  1.11261502e-306 1.42410839e-306]\n",
      " [7.56597770e-307 6.23059726e-307 1.42419530e-306 9.79101761e-307\n",
      "  9.34601642e-307 1.60219035e-306]]\n"
     ]
    }
   ],
   "source": [
    "empty = np.empty((4,6))\n",
    "print(empty)"
   ]
  },
  {
   "cell_type": "code",
   "execution_count": 26,
   "id": "246bebf0-0d37-4ccb-986e-b76da3531242",
   "metadata": {},
   "outputs": [
    {
     "name": "stdout",
     "output_type": "stream",
     "text": [
      "[1.22824072e-025 1.74884964e+254]\n"
     ]
    }
   ],
   "source": [
    "empty2 = np.empty(2)\n",
    "print(empty2)"
   ]
  },
  {
   "cell_type": "code",
   "execution_count": 27,
   "id": "f0c96ea0-1c6c-4286-9155-8ea6fb6a0443",
   "metadata": {},
   "outputs": [
    {
     "name": "stdout",
     "output_type": "stream",
     "text": [
      "[[1.22824072e-025 1.74884964e+254]]\n"
     ]
    }
   ],
   "source": [
    "empty3 = np.empty((1,2))\n",
    "print(empty3)"
   ]
  },
  {
   "cell_type": "code",
   "execution_count": 39,
   "id": "64caec1e-8d7c-41e7-a556-62ad70734586",
   "metadata": {},
   "outputs": [
    {
     "name": "stdout",
     "output_type": "stream",
     "text": [
      "[ 0  1  2  3  4  5  6  7  8  9 10 11 12 13 14 15 16 17 18 19 20 21 22 23\n",
      " 24 25 26 27 28 29 30 31 32 33 34 35 36 37 38 39 40 41 42 43 44 45 46 47\n",
      " 48 49 50 51 52 53 54 55 56 57 58 59 60 61 62 63 64 65 66 67 68 69 70 71\n",
      " 72 73 74 75 76 77 78 79 80 81 82 83 84 85 86 87 88 89 90 91 92 93 94 95\n",
      " 96 97 98 99]\n"
     ]
    }
   ],
   "source": [
    "a = np.arange(100)\n",
    "empty_like2 = np.empty_like(a)\n",
    "print(empty_like2)"
   ]
  },
  {
   "cell_type": "code",
   "execution_count": 42,
   "id": "9f30db9f-9703-4764-b54c-53e0cafaf837",
   "metadata": {},
   "outputs": [
    {
     "name": "stdout",
     "output_type": "stream",
     "text": [
      "[[1. 0. 0. 0.]\n",
      " [0. 1. 0. 0.]\n",
      " [0. 0. 1. 0.]\n",
      " [0. 0. 0. 1.]]\n"
     ]
    }
   ],
   "source": [
    "ide = np.identity(4)\n",
    "print(ide)"
   ]
  },
  {
   "cell_type": "code",
   "execution_count": 43,
   "id": "2680d914-283d-417b-919d-e77545071dfd",
   "metadata": {},
   "outputs": [
    {
     "name": "stdout",
     "output_type": "stream",
     "text": [
      "[ 0  1  2  3  4  5  6  7  8  9 10 11] (12,)\n"
     ]
    }
   ],
   "source": [
    "cd = np.arange(12)\n",
    "print(cd, cd.shape)"
   ]
  },
  {
   "cell_type": "code",
   "execution_count": 45,
   "id": "61ca4497-c1c3-4421-b830-2f68f68ec2cc",
   "metadata": {},
   "outputs": [
    {
     "name": "stdout",
     "output_type": "stream",
     "text": [
      "[[ 0  1  2  3]\n",
      " [ 4  5  6  7]\n",
      " [ 8  9 10 11]]\n",
      "\n",
      "[[ 0  1  2]\n",
      " [ 3  4  5]\n",
      " [ 6  7  8]\n",
      " [ 9 10 11]]\n",
      "\n",
      "[[ 0  1  2  3  4  5]\n",
      " [ 6  7  8  9 10 11]]\n"
     ]
    }
   ],
   "source": [
    "q = cd.reshape(3,4)\n",
    "qq = cd.reshape(4,3)\n",
    "qqq = cd.reshape(2,6)\n",
    "print(q,qq,qqq,sep=\"\\n\\n\")"
   ]
  },
  {
   "cell_type": "code",
   "execution_count": 47,
   "id": "46907025-c4c3-4538-b765-6ae2aa7ca6e6",
   "metadata": {},
   "outputs": [
    {
     "name": "stdout",
     "output_type": "stream",
     "text": [
      "[[ 0  1  2]\n",
      " [ 3  4  5]\n",
      " [ 6  7  8]\n",
      " [ 9 10 11]]\n",
      "[[ 0  1  2  3  4  5  6  7  8  9 10 11]]\n",
      "[ 0  1  2  3  4  5  6  7  8  9 10 11]\n"
     ]
    }
   ],
   "source": [
    "print(qq)\n",
    "print(qq.reshape(1,12))\n",
    "print(qq.ravel())"
   ]
  }
 ],
 "metadata": {
  "kernelspec": {
   "display_name": "Python 3 (ipykernel)",
   "language": "python",
   "name": "python3"
  },
  "language_info": {
   "codemirror_mode": {
    "name": "ipython",
    "version": 3
   },
   "file_extension": ".py",
   "mimetype": "text/x-python",
   "name": "python",
   "nbconvert_exporter": "python",
   "pygments_lexer": "ipython3",
   "version": "3.11.4"
  }
 },
 "nbformat": 4,
 "nbformat_minor": 5
}
