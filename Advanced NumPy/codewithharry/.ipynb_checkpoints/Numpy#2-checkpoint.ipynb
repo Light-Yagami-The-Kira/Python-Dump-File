{
 "cells": [
  {
   "cell_type": "code",
   "execution_count": 4,
   "id": "fe5eb33c-e3c4-4836-9061-bba4c4145f65",
   "metadata": {},
   "outputs": [],
   "source": [
    "import numpy as np"
   ]
  },
  {
   "cell_type": "code",
   "execution_count": 5,
   "id": "45e9a335-a0a6-4140-a15c-fe4dc09d0732",
   "metadata": {
    "scrolled": true
   },
   "outputs": [
    {
     "name": "stdout",
     "output_type": "stream",
     "text": [
      "[[1 2 3]\n",
      " [4 5 6]\n",
      " [7 1 0]]\n"
     ]
    }
   ],
   "source": [
    "x = np.array([\n",
    "    [1,2,3],\n",
    "    [4,5,6],\n",
    "    [7,1,0]\n",
    "])\n",
    "print(x)"
   ]
  },
  {
   "cell_type": "code",
   "execution_count": 6,
   "id": "6777991c-b32c-4ce1-aa2d-b93632f3827c",
   "metadata": {},
   "outputs": [
    {
     "name": "stdout",
     "output_type": "stream",
     "text": [
      "[12  8  9]\n",
      "[ 6 15  8]\n"
     ]
    }
   ],
   "source": [
    "print(x.sum(axis=0))\n",
    "print(x.sum(axis=1))"
   ]
  },
  {
   "cell_type": "code",
   "execution_count": 7,
   "id": "d549055e-ff70-4824-95b7-324c5d1032de",
   "metadata": {},
   "outputs": [
    {
     "name": "stdout",
     "output_type": "stream",
     "text": [
      "[[1 4 7]\n",
      " [2 5 1]\n",
      " [3 6 0]]\n"
     ]
    }
   ],
   "source": [
    "print(x.T)"
   ]
  },
  {
   "cell_type": "code",
   "execution_count": 8,
   "id": "4ee0967c-3ccf-4ec2-ac96-7a055e9f931e",
   "metadata": {},
   "outputs": [
    {
     "name": "stdout",
     "output_type": "stream",
     "text": [
      "<numpy.flatiter object at 0x000001D70E571770>\n"
     ]
    }
   ],
   "source": [
    "print(x.flat)"
   ]
  },
  {
   "cell_type": "code",
   "execution_count": 9,
   "id": "324fbb60-9c84-4451-9633-b686ba015184",
   "metadata": {},
   "outputs": [
    {
     "name": "stdout",
     "output_type": "stream",
     "text": [
      "1\n",
      "2\n",
      "3\n",
      "4\n",
      "5\n",
      "6\n",
      "7\n",
      "1\n",
      "0\n"
     ]
    }
   ],
   "source": [
    "for item in x.flat:\n",
    "    print(item)"
   ]
  },
  {
   "cell_type": "code",
   "execution_count": 10,
   "id": "b7c99751-4e37-4619-a778-d1cbc15e4f80",
   "metadata": {},
   "outputs": [
    {
     "name": "stdout",
     "output_type": "stream",
     "text": [
      "2\n"
     ]
    }
   ],
   "source": [
    "print(x.ndim)"
   ]
  },
  {
   "cell_type": "code",
   "execution_count": 11,
   "id": "f517f1de-a199-485a-9ecc-6f301df48742",
   "metadata": {},
   "outputs": [
    {
     "name": "stdout",
     "output_type": "stream",
     "text": [
      "9\n"
     ]
    }
   ],
   "source": [
    "print(x.size)"
   ]
  },
  {
   "cell_type": "code",
   "execution_count": 13,
   "id": "83791fa5-677f-4e34-840d-8a58d7bc1e37",
   "metadata": {},
   "outputs": [
    {
     "name": "stdout",
     "output_type": "stream",
     "text": [
      "36 int32\n"
     ]
    }
   ],
   "source": [
    "print(x.nbytes, x.dtype)"
   ]
  },
  {
   "cell_type": "code",
   "execution_count": null,
   "id": "51b0d7ba-f58b-48e5-a6a6-cdd8901fbef4",
   "metadata": {},
   "outputs": [],
   "source": []
  }
 ],
 "metadata": {
  "kernelspec": {
   "display_name": "Python 3 (ipykernel)",
   "language": "python",
   "name": "python3"
  },
  "language_info": {
   "codemirror_mode": {
    "name": "ipython",
    "version": 3
   },
   "file_extension": ".py",
   "mimetype": "text/x-python",
   "name": "python",
   "nbconvert_exporter": "python",
   "pygments_lexer": "ipython3",
   "version": "3.11.4"
  }
 },
 "nbformat": 4,
 "nbformat_minor": 5
}
