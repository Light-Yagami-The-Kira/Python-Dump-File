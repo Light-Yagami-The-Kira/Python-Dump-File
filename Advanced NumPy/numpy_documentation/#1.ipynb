{
 "cells": [
  {
   "cell_type": "code",
   "execution_count": null,
   "metadata": {},
   "outputs": [],
   "source": [
    "import numpy as np"
   ]
  },
  {
   "cell_type": "code",
   "execution_count": null,
   "metadata": {},
   "outputs": [],
   "source": [
    "a = np.arange(6)\n",
    "a2 = a[np.newaxis, :]\n",
    "print(a2)\n",
    "print(a2.shape)"
   ]
  },
  {
   "cell_type": "code",
   "execution_count": null,
   "metadata": {},
   "outputs": [],
   "source": [
    "q = np.zeros((2,3), dtype=np.int8)\n",
    "print(q)"
   ]
  },
  {
   "cell_type": "code",
   "execution_count": null,
   "metadata": {},
   "outputs": [],
   "source": [
    "ar = np.array([\n",
    "    [1, 100],\n",
    "    [4, 3],\n",
    "    [10,93]\n",
    "])"
   ]
  },
  {
   "cell_type": "code",
   "execution_count": null,
   "metadata": {},
   "outputs": [],
   "source": [
    "print(np.sort(ar,axis=0))\n",
    "print(np.sort(ar,axis=1))\n",
    "print(np.sort(ar,axis=-1))"
   ]
  },
  {
   "cell_type": "code",
   "execution_count": null,
   "metadata": {},
   "outputs": [],
   "source": [
    "a = np.array([\n",
    "    [1,1]\n",
    "])\n",
    "\n",
    "print(np.concatenate((ar,a)))"
   ]
  },
  {
   "cell_type": "code",
   "execution_count": null,
   "metadata": {},
   "outputs": [],
   "source": [
    "array_example = np.array([[[0, 1, 2, 3],\n",
    "                           [4, 5, 6, 7]],\n",
    "\n",
    "                          [[0, 1, 2, 3],\n",
    "                           [4, 5, 6, 7]],\n",
    "\n",
    "                          [[0 ,1 ,2, 3],\n",
    "                           [4, 5, 6, 7]]])"
   ]
  },
  {
   "cell_type": "code",
   "execution_count": null,
   "metadata": {},
   "outputs": [],
   "source": [
    "print(array_example.ndim)\n",
    "print(array_example.size)\n",
    "print(array_example.shape)\n"
   ]
  },
  {
   "cell_type": "code",
   "execution_count": null,
   "metadata": {},
   "outputs": [],
   "source": [
    "print(np.sort(array_example,axis=0), end=\"\\n\"+\"=\"*100+\"\\n\")\n",
    "print(np.sort(array_example, axis=1), end=\"\\n\"+\"=\"*100+\"\\n\")\n",
    "print(np.sort(array_example, axis=-1), end=\"\\n\"+\"=\"*100+\"\\n\")"
   ]
  },
  {
   "cell_type": "code",
   "execution_count": null,
   "metadata": {},
   "outputs": [],
   "source": [
    "aaa = np.array([1,2,3,4,5,6])\n",
    "print(aaa[np.newaxis, :])\n",
    "print(aaa[:,np.newaxis ])"
   ]
  },
  {
   "cell_type": "code",
   "execution_count": null,
   "metadata": {},
   "outputs": [],
   "source": [
    "b = np.expand_dims(aaa, axis=0)\n",
    "print(b)\n",
    "b = np.expand_dims(aaa, axis=1)\n",
    "print(b)"
   ]
  },
  {
   "cell_type": "code",
   "execution_count": null,
   "metadata": {},
   "outputs": [],
   "source": [
    "## INDEXING AND SLICING ALSO DONE IN NUMPY"
   ]
  },
  {
   "cell_type": "code",
   "execution_count": null,
   "metadata": {},
   "outputs": [],
   "source": [
    "a = np.arange(1,101)\n",
    "print(a[(a>=5)])\n",
    "print(\"=\"*100)\n",
    "print(a[(a%2 == 0)])\n",
    "print(\"=\"*100)\n",
    "print(a[(a%2 + a%3 == 0)])\n",
    "print(\"=\"*100)\n",
    "print(a[(a%2 == 0) | (a%5 == 0)])\n",
    "print(\"=\"*100)\n",
    "print(a[(a%2 == 0) & (a%5 == 0)])\n",
    "print(\"=\"*100)\n",
    "print((a%2 == 0) & (a%5 == 0))"
   ]
  },
  {
   "cell_type": "code",
   "execution_count": null,
   "metadata": {},
   "outputs": [],
   "source": [
    "print(np.nonzero(a%10 == 0))"
   ]
  },
  {
   "cell_type": "code",
   "execution_count": null,
   "metadata": {},
   "outputs": [],
   "source": [
    "a = np.array([[1, 2, 3, 4], [5, 6, 7, 8], [9, 10, 11, 12]])\n",
    "b = np.nonzero(a < 5)\n",
    "print(b)\n",
    "B = np.array(b)\n",
    "print(B)\n",
    "print(list(zip(b[0], b[1])))\n",
    "print(list(zip(B[0], B[1])))\n",
    "print(b[0], b[1])\n",
    "## first array is axis 0 index and second is axis 1 index"
   ]
  },
  {
   "cell_type": "code",
   "execution_count": null,
   "metadata": {},
   "outputs": [],
   "source": [
    "print(b,B,sep=\"\\n\\n\",end=\"\\n\\n\")\n",
    "print(a[b])"
   ]
  },
  {
   "cell_type": "code",
   "execution_count": null,
   "metadata": {},
   "outputs": [],
   "source": [
    "'''\n",
    "not_there = np.nonzero(a == 42)\n",
    "print(not_there)\n",
    "(array([], dtype=int64), array([], dtype=int64))\n",
    "'''"
   ]
  }
 ],
 "metadata": {
  "kernelspec": {
   "display_name": "Python 3",
   "language": "python",
   "name": "python3"
  },
  "language_info": {
   "codemirror_mode": {
    "name": "ipython",
    "version": 3
   },
   "file_extension": ".py",
   "mimetype": "text/x-python",
   "name": "python",
   "nbconvert_exporter": "python",
   "pygments_lexer": "ipython3",
   "version": "3.11.4"
  }
 },
 "nbformat": 4,
 "nbformat_minor": 2
}
