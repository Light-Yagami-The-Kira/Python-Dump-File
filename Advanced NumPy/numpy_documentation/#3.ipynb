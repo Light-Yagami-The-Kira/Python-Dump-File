{
 "cells": [
  {
   "cell_type": "code",
   "execution_count": 1,
   "metadata": {},
   "outputs": [],
   "source": [
    "import numpy as np"
   ]
  },
  {
   "cell_type": "code",
   "execution_count": 2,
   "metadata": {},
   "outputs": [
    {
     "name": "stdout",
     "output_type": "stream",
     "text": [
      "[[2 4]\n",
      " [4 6]\n",
      " [6 8]]\n"
     ]
    }
   ],
   "source": [
    "a = np.array([[1, 2], [3, 4], [5, 6]])\n",
    "b = np.array([[1,2]])\n",
    "print(a+b)"
   ]
  },
  {
   "cell_type": "code",
   "execution_count": 5,
   "metadata": {},
   "outputs": [
    {
     "name": "stdout",
     "output_type": "stream",
     "text": [
      "Generator(PCG64)\n",
      "[0.64187368 0.74196485 0.21736978 0.25831379 0.9493839 ]\n"
     ]
    }
   ],
   "source": [
    "a = np.random.default_rng()\n",
    "print(a)\n",
    "print(a.random(5))"
   ]
  },
  {
   "cell_type": "markdown",
   "metadata": {},
   "source": [
    "GENERATE RANDOM NUMBERS"
   ]
  },
  {
   "cell_type": "code",
   "execution_count": 7,
   "metadata": {},
   "outputs": [
    {
     "name": "stdout",
     "output_type": "stream",
     "text": [
      "[[5 5 2 4]\n",
      " [0 5 2 3]]\n"
     ]
    }
   ],
   "source": [
    "genrator = np.random.default_rng()\n",
    "print(genrator.integers(5, size=(2,4), endpoint=True))"
   ]
  },
  {
   "cell_type": "code",
   "execution_count": 10,
   "metadata": {},
   "outputs": [
    {
     "name": "stdout",
     "output_type": "stream",
     "text": [
      "[ 1  2  3  4  5  6  7  8 34]\n",
      "(array([ 1,  2,  3,  4,  5,  6,  7,  8, 34]), array([1, 1, 4, 3, 4, 4, 1, 1, 1], dtype=int64))\n",
      "(array([ 1,  2,  3,  4,  5,  6,  7,  8, 34]), array([ 0,  1,  2,  3,  6,  7, 13, 14, 19], dtype=int64))\n"
     ]
    }
   ],
   "source": [
    "##UNIQUE ITEMS\n",
    "a = np.array([1,2,3,4,4,3,5,6,6,5,4,5,6,7,8,3,6,5,3,34])\n",
    "print(np.unique(a))\n",
    "print(np.unique(a,return_counts=True))\n",
    "print(np.unique(a, return_index=True))\n",
    "# print(np.unique(a, return_counts=True, return_index=True))\n"
   ]
  },
  {
   "cell_type": "code",
   "execution_count": 17,
   "metadata": {},
   "outputs": [],
   "source": [
    "_2d = np.array([[1, 2, 3, 4], [5, 6, 7, 8], [9, 10, 11, 12], [1, 2, 3, 91]])\n"
   ]
  },
  {
   "cell_type": "code",
   "execution_count": 18,
   "metadata": {},
   "outputs": [
    {
     "name": "stdout",
     "output_type": "stream",
     "text": [
      "[ 1  2  3  4  5  6  7  8  9 10 11 12 91]\n",
      "[[ 1  2  3  4]\n",
      " [ 1  2  3 91]\n",
      " [ 5  6  7  8]\n",
      " [ 9 10 11 12]]\n",
      "[[ 1  2  3  4]\n",
      " [ 5  6  7  8]\n",
      " [ 9 10 11 12]\n",
      " [ 1  2  3 91]]\n"
     ]
    }
   ],
   "source": [
    "unique_values = np.unique(_2d)\n",
    "print(unique_values) ##IF NO AXIS IS GIVEN THE 2 D ARRAY IS FLATTENED\n",
    "print(np.unique(_2d, axis=0))\n",
    "print(np.unique(_2d, axis=1))"
   ]
  },
  {
   "cell_type": "code",
   "execution_count": 19,
   "metadata": {},
   "outputs": [
    {
     "name": "stdout",
     "output_type": "stream",
     "text": [
      "[8 7 6 5 4 3 2 1]\n"
     ]
    }
   ],
   "source": [
    "arr = np.array([1, 2, 3, 4, 5, 6, 7, 8])\n",
    "print(np.flip(arr))"
   ]
  },
  {
   "cell_type": "code",
   "execution_count": 21,
   "metadata": {},
   "outputs": [
    {
     "name": "stdout",
     "output_type": "stream",
     "text": [
      "[[5 7 5]\n",
      " [2 3 4]\n",
      " [3 2 1]]\n",
      "[[5 7 5]\n",
      " [4 3 2]\n",
      " [1 2 3]]\n",
      "[[3 2 1]\n",
      " [2 3 4]\n",
      " [5 7 5]]\n"
     ]
    }
   ],
   "source": [
    "arr = np.array([\n",
    "    [1,2,3],\n",
    "    [4,3,2],\n",
    "    [5,7,5]\n",
    "])\n",
    "print(np.flip(arr))\n",
    "print(np.flip(arr,axis=0))\n",
    "print(np.flip(arr,axis=1))"
   ]
  },
  {
   "cell_type": "code",
   "execution_count": 26,
   "metadata": {},
   "outputs": [
    {
     "name": "stdout",
     "output_type": "stream",
     "text": [
      "[[ 1  2  3  4]\n",
      " [ 5  6  7  8]\n",
      " [ 9 10 11 12]]\n",
      "[6969    2    3    4    5    6    7    8    9   10   11   12]\n"
     ]
    }
   ],
   "source": [
    "x = np.array([[1 , 2, 3, 4], [5, 6, 7, 8], [9, 10, 11, 12]])\n",
    "X = x.flatten()\n",
    "X[0] = 6969\n",
    "print(x)\n",
    "print(X)"
   ]
  },
  {
   "cell_type": "code",
   "execution_count": 27,
   "metadata": {},
   "outputs": [
    {
     "name": "stdout",
     "output_type": "stream",
     "text": [
      "[[6969    2    3    4]\n",
      " [   5    6    7    8]\n",
      " [   9   10   11   12]]\n",
      "[6969    2    3    4    5    6    7    8    9   10   11   12]\n"
     ]
    }
   ],
   "source": [
    "X = x.ravel()\n",
    "X[0] = 6969\n",
    "print(x)\n",
    "print(X)"
   ]
  },
  {
   "cell_type": "code",
   "execution_count": null,
   "metadata": {},
   "outputs": [],
   "source": []
  }
 ],
 "metadata": {
  "kernelspec": {
   "display_name": "Python 3",
   "language": "python",
   "name": "python3"
  },
  "language_info": {
   "codemirror_mode": {
    "name": "ipython",
    "version": 3
   },
   "file_extension": ".py",
   "mimetype": "text/x-python",
   "name": "python",
   "nbconvert_exporter": "python",
   "pygments_lexer": "ipython3",
   "version": "3.11.4"
  }
 },
 "nbformat": 4,
 "nbformat_minor": 2
}
